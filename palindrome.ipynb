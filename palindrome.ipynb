{
 "cells": [
  {
   "cell_type": "markdown",
   "metadata": {},
   "source": [
    "# Palindrome Algorithm"
   ]
  },
  {
   "cell_type": "markdown",
   "metadata": {},
   "source": [
    "Leetcode problem: https://leetcode.com/problems/palindrome-number\n",
    "<br>\n",
    "Leetcode submission: https://leetcode.com/problems/palindrome-number/submissions/1293561462/"
   ]
  },
  {
   "cell_type": "markdown",
   "metadata": {},
   "source": [
    "## O(log(x)) solution"
   ]
  },
  {
   "cell_type": "code",
   "execution_count": null,
   "metadata": {},
   "outputs": [],
   "source": [
    "# List initialization\n",
    "input = [121]\n",
    "input_copy = input\n",
    "\n",
    "# Converting to int\n",
    "input = int(input[0])\n",
    "\n",
    "# Output list initialization\n",
    "output = []\n",
    "\n",
    "while input > 0:\n",
    "    rem = input % 10\n",
    "    input = int(input / 10)\n",
    "    output.append(rem)\n",
    "\n",
    "# Printing output\n",
    "print(output)\n",
    "\n",
    "# Reversing the output\n",
    "mult = 10 ** (len(output)-1)\n",
    "reversed_output = []\n",
    "result = 0\n",
    "for num in output:\n",
    "    result += num * mult\n",
    "    mult /= 10\n",
    "reversed_output.append(result)\n",
    "\n",
    "print(reversed_output)\n",
    "print(input_copy)\n",
    "\n",
    "if input_copy[0] == reversed_output[0]:\n",
    "    return True"
   ]
  }
 ],
 "metadata": {
  "language_info": {
   "name": "python"
  }
 },
 "nbformat": 4,
 "nbformat_minor": 2
}
